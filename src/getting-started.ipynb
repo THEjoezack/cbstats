{
 "metadata": {
  "language_info": {
   "codemirror_mode": {
    "name": "ipython",
    "version": 3
   },
   "file_extension": ".py",
   "mimetype": "text/x-python",
   "name": "python",
   "nbconvert_exporter": "python",
   "pygments_lexer": "ipython3",
   "version": "3.7.2-final"
  },
  "orig_nbformat": 2,
  "kernelspec": {
   "name": "python3",
   "display_name": "Python 3.7.2 64-bit",
   "metadata": {
    "interpreter": {
     "hash": "04635d289a519a1410467dd0afb0db42f9184808881ca68b2eb5a687a20a5a94"
    }
   }
  }
 },
 "nbformat": 4,
 "nbformat_minor": 2,
 "cells": [
  {
   "source": [
    "# Totals"
   ],
   "cell_type": "markdown",
   "metadata": {}
  },
  {
   "cell_type": "code",
   "execution_count": 90,
   "metadata": {},
   "outputs": [
    {
     "output_type": "stream",
     "name": "stdout",
     "text": [
      "        date  views\n0 2020-10-28      0\n1 2020-10-29      0\n2 2020-10-30      0\n3 2020-10-31      2\n4 2020-11-01      0\n"
     ]
    },
    {
     "output_type": "execute_result",
     "data": {
      "text/plain": [
       "           views\n",
       "count  28.000000\n",
       "mean    0.214286\n",
       "std     0.568112\n",
       "min     0.000000\n",
       "25%     0.000000\n",
       "50%     0.000000\n",
       "75%     0.000000\n",
       "max     2.000000"
      ],
      "text/html": "<div>\n<style scoped>\n    .dataframe tbody tr th:only-of-type {\n        vertical-align: middle;\n    }\n\n    .dataframe tbody tr th {\n        vertical-align: top;\n    }\n\n    .dataframe thead th {\n        text-align: right;\n    }\n</style>\n<table border=\"1\" class=\"dataframe\">\n  <thead>\n    <tr style=\"text-align: right;\">\n      <th></th>\n      <th>views</th>\n    </tr>\n  </thead>\n  <tbody>\n    <tr>\n      <th>count</th>\n      <td>28.000000</td>\n    </tr>\n    <tr>\n      <th>mean</th>\n      <td>0.214286</td>\n    </tr>\n    <tr>\n      <th>std</th>\n      <td>0.568112</td>\n    </tr>\n    <tr>\n      <th>min</th>\n      <td>0.000000</td>\n    </tr>\n    <tr>\n      <th>25%</th>\n      <td>0.000000</td>\n    </tr>\n    <tr>\n      <th>50%</th>\n      <td>0.000000</td>\n    </tr>\n    <tr>\n      <th>75%</th>\n      <td>0.000000</td>\n    </tr>\n    <tr>\n      <th>max</th>\n      <td>2.000000</td>\n    </tr>\n  </tbody>\n</table>\n</div>"
     },
     "metadata": {},
     "execution_count": 90
    }
   ],
   "source": [
    "import pandas as pd\n",
    "import seaborn as sns\n",
    "import matplotlib.pyplot as plt\n",
    "\n",
    "sns.set(rc={'figure.figsize':(11.7,8.27)})\n",
    "\n",
    "totals:pd.DataFrame = pd.read_csv(\"../data/Totals.csv\", header=0)\n",
    "\n",
    "cleaned = pd.DataFrame({\n",
    "    'date': pd.to_datetime(totals['Date'], format='%Y-%m-%d'),\n",
    "    'views': totals['Views']\n",
    "})\n",
    "\n",
    "print(cleaned.head(5))\n",
    "cleaned.describe()\n"
   ]
  },
  {
   "source": [
    "# Videos"
   ],
   "cell_type": "markdown",
   "metadata": {}
  },
  {
   "cell_type": "code",
   "execution_count": 97,
   "metadata": {},
   "outputs": [
    {
     "output_type": "stream",
     "name": "stdout",
     "text": [
      "         Date        Video      Video title Video publish time  Views\n0  2020-10-28  CVLLpAFD3K4  Scary Owl Noise       Jul 16, 2019      0\n1  2020-10-29  CVLLpAFD3K4  Scary Owl Noise       Jul 16, 2019      0\n2  2020-10-30  CVLLpAFD3K4  Scary Owl Noise       Jul 16, 2019      0\n3  2020-10-31  CVLLpAFD3K4  Scary Owl Noise       Jul 16, 2019      0\n4  2020-11-01  CVLLpAFD3K4  Scary Owl Noise       Jul 16, 2019      0\n"
     ]
    },
    {
     "output_type": "execute_result",
     "data": {
      "text/plain": [
       "            Views\n",
       "count  112.000000\n",
       "mean     0.053571\n",
       "std      0.263014\n",
       "min      0.000000\n",
       "25%      0.000000\n",
       "50%      0.000000\n",
       "75%      0.000000\n",
       "max      2.000000"
      ],
      "text/html": "<div>\n<style scoped>\n    .dataframe tbody tr th:only-of-type {\n        vertical-align: middle;\n    }\n\n    .dataframe tbody tr th {\n        vertical-align: top;\n    }\n\n    .dataframe thead th {\n        text-align: right;\n    }\n</style>\n<table border=\"1\" class=\"dataframe\">\n  <thead>\n    <tr style=\"text-align: right;\">\n      <th></th>\n      <th>Views</th>\n    </tr>\n  </thead>\n  <tbody>\n    <tr>\n      <th>count</th>\n      <td>112.000000</td>\n    </tr>\n    <tr>\n      <th>mean</th>\n      <td>0.053571</td>\n    </tr>\n    <tr>\n      <th>std</th>\n      <td>0.263014</td>\n    </tr>\n    <tr>\n      <th>min</th>\n      <td>0.000000</td>\n    </tr>\n    <tr>\n      <th>25%</th>\n      <td>0.000000</td>\n    </tr>\n    <tr>\n      <th>50%</th>\n      <td>0.000000</td>\n    </tr>\n    <tr>\n      <th>75%</th>\n      <td>0.000000</td>\n    </tr>\n    <tr>\n      <th>max</th>\n      <td>2.000000</td>\n    </tr>\n  </tbody>\n</table>\n</div>"
     },
     "metadata": {},
     "execution_count": 97
    }
   ],
   "source": [
    "videos:pd.DataFrame = pd.read_csv(\"../data/Chart data.csv\", header=0)\n",
    "print(videos.head(5))\n",
    "videos.describe()"
   ]
  },
  {
   "cell_type": "code",
   "execution_count": 98,
   "metadata": {},
   "outputs": [
    {
     "output_type": "stream",
     "name": "stdout",
     "text": [
      "         Video                      Video title Video publish time Views  \\\n0  CVLLpAFD3K4                  Scary Owl Noise       Jul 16, 2019     3   \n1  _D1Tw_CY_54   Nerding out with my new guitar       May 26, 2020     1   \n2  dOh-HFPLhu4                           grafka       Oct 28, 2019     1   \n3  jOcOdVdrOck                          cdntest       Aug 17, 2020     1   \n4  AXs4EWg6Uz4  Nerding out, Coding Blocks song       Oct 18, 2016   NaN   \n\n  Watch time (hours) Subscribers Impressions  \\\n0             0.0095           0          33   \n1             0.0116           0           5   \n2             0.0043           0           0   \n3             0.0071           0           1   \n4                NaN         NaN           1   \n\n  Impressions click-through rate (%)  \n0                               9.09  \n1                                 20  \n2                                NaN  \n3                                  0  \n4                                  0  \n"
     ]
    },
    {
     "output_type": "execute_result",
     "data": {
      "text/plain": [
       "              Video Video title Video publish time Views Watch time (hours)  \\\n",
       "count             5           5                  5     4                  4   \n",
       "unique            5           5                  5     2                  4   \n",
       "top     AXs4EWg6Uz4      grafka       May 26, 2020     1             0.0095   \n",
       "freq              1           1                  1     3                  1   \n",
       "\n",
       "       Subscribers Impressions Impressions click-through rate (%)  \n",
       "count            4           5                                  4  \n",
       "unique           1           4                                  3  \n",
       "top              0           1                                  0  \n",
       "freq             4           2                                  2  "
      ],
      "text/html": "<div>\n<style scoped>\n    .dataframe tbody tr th:only-of-type {\n        vertical-align: middle;\n    }\n\n    .dataframe tbody tr th {\n        vertical-align: top;\n    }\n\n    .dataframe thead th {\n        text-align: right;\n    }\n</style>\n<table border=\"1\" class=\"dataframe\">\n  <thead>\n    <tr style=\"text-align: right;\">\n      <th></th>\n      <th>Video</th>\n      <th>Video title</th>\n      <th>Video publish time</th>\n      <th>Views</th>\n      <th>Watch time (hours)</th>\n      <th>Subscribers</th>\n      <th>Impressions</th>\n      <th>Impressions click-through rate (%)</th>\n    </tr>\n  </thead>\n  <tbody>\n    <tr>\n      <th>count</th>\n      <td>5</td>\n      <td>5</td>\n      <td>5</td>\n      <td>4</td>\n      <td>4</td>\n      <td>4</td>\n      <td>5</td>\n      <td>4</td>\n    </tr>\n    <tr>\n      <th>unique</th>\n      <td>5</td>\n      <td>5</td>\n      <td>5</td>\n      <td>2</td>\n      <td>4</td>\n      <td>1</td>\n      <td>4</td>\n      <td>3</td>\n    </tr>\n    <tr>\n      <th>top</th>\n      <td>AXs4EWg6Uz4</td>\n      <td>grafka</td>\n      <td>May 26, 2020</td>\n      <td>1</td>\n      <td>0.0095</td>\n      <td>0</td>\n      <td>1</td>\n      <td>0</td>\n    </tr>\n    <tr>\n      <th>freq</th>\n      <td>1</td>\n      <td>1</td>\n      <td>1</td>\n      <td>3</td>\n      <td>1</td>\n      <td>4</td>\n      <td>2</td>\n      <td>2</td>\n    </tr>\n  </tbody>\n</table>\n</div>"
     },
     "metadata": {},
     "execution_count": 98
    }
   ],
   "source": [
    "import numpy as np\n",
    "dtypes = {\n",
    "    'Video': np.str,\n",
    "    'Video title': np.str,\n",
    "    'Video publish time': np.str,\n",
    "    'Views': np.str,\n",
    "    'Watch time (hours)': np.str,\n",
    "    'Subscribers': np.str,\n",
    "    'Impressions': np.str,\n",
    "    'Impressions click-through rate (%)': np.str\n",
    "}\n",
    "video_totals:pd.DataFrame = pd.read_csv(\"../data/Table data.csv\", header=0, dtype=dtypes, skiprows=[1])\n",
    "print(video_totals.head(5))\n",
    "video_totals.describe()"
   ]
  }
 ]
}