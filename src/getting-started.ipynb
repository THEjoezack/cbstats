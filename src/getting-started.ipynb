{
 "metadata": {
  "language_info": {
   "codemirror_mode": {
    "name": "ipython",
    "version": 3
   },
   "file_extension": ".py",
   "mimetype": "text/x-python",
   "name": "python",
   "nbconvert_exporter": "python",
   "pygments_lexer": "ipython3",
   "version": "3.7.2-final"
  },
  "orig_nbformat": 2,
  "kernelspec": {
   "name": "python3",
   "display_name": "Python 3.7.2 64-bit",
   "metadata": {
    "interpreter": {
     "hash": "04635d289a519a1410467dd0afb0db42f9184808881ca68b2eb5a687a20a5a94"
    }
   }
  }
 },
 "nbformat": 4,
 "nbformat_minor": 2,
 "cells": [
  {
   "cell_type": "code",
   "execution_count": 5,
   "metadata": {},
   "outputs": [
    {
     "output_type": "execute_result",
     "data": {
      "text/plain": [
       "          Date  Views\n",
       "0   2020-10-28      0\n",
       "1   2020-10-29      0\n",
       "2   2020-10-30      0\n",
       "3   2020-10-31      2\n",
       "4   2020-11-01      0\n",
       "5   2020-11-02      0\n",
       "6   2020-11-03      0\n",
       "7   2020-11-04      0\n",
       "8   2020-11-05      0\n",
       "9   2020-11-06      0\n",
       "10  2020-11-07      0\n",
       "11  2020-11-08      0\n",
       "12  2020-11-09      0\n",
       "13  2020-11-10      0\n",
       "14  2020-11-11      0\n",
       "15  2020-11-12      0\n",
       "16  2020-11-13      1\n",
       "17  2020-11-14      0\n",
       "18  2020-11-15      0\n",
       "19  2020-11-16      0\n",
       "20  2020-11-17      2\n",
       "21  2020-11-18      0\n",
       "22  2020-11-19      0\n",
       "23  2020-11-20      1\n",
       "24  2020-11-21      0\n",
       "25  2020-11-22      0\n",
       "26  2020-11-23      0\n",
       "27  2020-11-24      0"
      ],
      "text/html": "<div>\n<style scoped>\n    .dataframe tbody tr th:only-of-type {\n        vertical-align: middle;\n    }\n\n    .dataframe tbody tr th {\n        vertical-align: top;\n    }\n\n    .dataframe thead th {\n        text-align: right;\n    }\n</style>\n<table border=\"1\" class=\"dataframe\">\n  <thead>\n    <tr style=\"text-align: right;\">\n      <th></th>\n      <th>Date</th>\n      <th>Views</th>\n    </tr>\n  </thead>\n  <tbody>\n    <tr>\n      <th>0</th>\n      <td>2020-10-28</td>\n      <td>0</td>\n    </tr>\n    <tr>\n      <th>1</th>\n      <td>2020-10-29</td>\n      <td>0</td>\n    </tr>\n    <tr>\n      <th>2</th>\n      <td>2020-10-30</td>\n      <td>0</td>\n    </tr>\n    <tr>\n      <th>3</th>\n      <td>2020-10-31</td>\n      <td>2</td>\n    </tr>\n    <tr>\n      <th>4</th>\n      <td>2020-11-01</td>\n      <td>0</td>\n    </tr>\n    <tr>\n      <th>5</th>\n      <td>2020-11-02</td>\n      <td>0</td>\n    </tr>\n    <tr>\n      <th>6</th>\n      <td>2020-11-03</td>\n      <td>0</td>\n    </tr>\n    <tr>\n      <th>7</th>\n      <td>2020-11-04</td>\n      <td>0</td>\n    </tr>\n    <tr>\n      <th>8</th>\n      <td>2020-11-05</td>\n      <td>0</td>\n    </tr>\n    <tr>\n      <th>9</th>\n      <td>2020-11-06</td>\n      <td>0</td>\n    </tr>\n    <tr>\n      <th>10</th>\n      <td>2020-11-07</td>\n      <td>0</td>\n    </tr>\n    <tr>\n      <th>11</th>\n      <td>2020-11-08</td>\n      <td>0</td>\n    </tr>\n    <tr>\n      <th>12</th>\n      <td>2020-11-09</td>\n      <td>0</td>\n    </tr>\n    <tr>\n      <th>13</th>\n      <td>2020-11-10</td>\n      <td>0</td>\n    </tr>\n    <tr>\n      <th>14</th>\n      <td>2020-11-11</td>\n      <td>0</td>\n    </tr>\n    <tr>\n      <th>15</th>\n      <td>2020-11-12</td>\n      <td>0</td>\n    </tr>\n    <tr>\n      <th>16</th>\n      <td>2020-11-13</td>\n      <td>1</td>\n    </tr>\n    <tr>\n      <th>17</th>\n      <td>2020-11-14</td>\n      <td>0</td>\n    </tr>\n    <tr>\n      <th>18</th>\n      <td>2020-11-15</td>\n      <td>0</td>\n    </tr>\n    <tr>\n      <th>19</th>\n      <td>2020-11-16</td>\n      <td>0</td>\n    </tr>\n    <tr>\n      <th>20</th>\n      <td>2020-11-17</td>\n      <td>2</td>\n    </tr>\n    <tr>\n      <th>21</th>\n      <td>2020-11-18</td>\n      <td>0</td>\n    </tr>\n    <tr>\n      <th>22</th>\n      <td>2020-11-19</td>\n      <td>0</td>\n    </tr>\n    <tr>\n      <th>23</th>\n      <td>2020-11-20</td>\n      <td>1</td>\n    </tr>\n    <tr>\n      <th>24</th>\n      <td>2020-11-21</td>\n      <td>0</td>\n    </tr>\n    <tr>\n      <th>25</th>\n      <td>2020-11-22</td>\n      <td>0</td>\n    </tr>\n    <tr>\n      <th>26</th>\n      <td>2020-11-23</td>\n      <td>0</td>\n    </tr>\n    <tr>\n      <th>27</th>\n      <td>2020-11-24</td>\n      <td>0</td>\n    </tr>\n  </tbody>\n</table>\n</div>"
     },
     "metadata": {},
     "execution_count": 5
    }
   ],
   "source": [
    "import pandas\n",
    "totals = pandas.read_csv(\"../data/Totals.csv\")\n",
    "\n",
    "totals\n",
    "\n",
    "#totals.describe()\n"
   ]
  }
 ]
}